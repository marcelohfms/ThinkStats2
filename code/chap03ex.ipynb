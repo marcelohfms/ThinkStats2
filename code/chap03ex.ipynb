{
 "cells": [
  {
   "cell_type": "markdown",
   "metadata": {},
   "source": [
    "# Chapter 3\n",
    "\n",
    "Examples and Exercises from Think Stats, 2nd Edition\n",
    "\n",
    "http://thinkstats2.com\n",
    "\n",
    "Copyright 2016 Allen B. Downey\n",
    "\n",
    "MIT License: https://opensource.org/licenses/MIT\n"
   ]
  },
  {
   "cell_type": "code",
   "execution_count": 1,
   "metadata": {},
   "outputs": [],
   "source": [
    "from os.path import basename, exists\n",
    "\n",
    "\n",
    "def download(url):\n",
    "    filename = basename(url)\n",
    "    if not exists(filename):\n",
    "        from urllib.request import urlretrieve\n",
    "\n",
    "        local, _ = urlretrieve(url, filename)\n",
    "        print(\"Downloaded \" + local)\n",
    "\n",
    "\n",
    "download(\"https://github.com/AllenDowney/ThinkStats2/raw/master/code/thinkstats2.py\")\n",
    "download(\"https://github.com/AllenDowney/ThinkStats2/raw/master/code/thinkplot.py\")\n",
    "download(\"https://github.com/AllenDowney/ThinkStats2/raw/master/code/nsfg.py\")\n",
    "download(\"https://github.com/AllenDowney/ThinkStats2/raw/master/code/first.py\")\n",
    "\n",
    "\n",
    "download(\"https://github.com/AllenDowney/ThinkStats2/raw/master/code/2002FemPreg.dct\")\n",
    "download(\n",
    "    \"https://github.com/AllenDowney/ThinkStats2/raw/master/code/2002FemPreg.dat.gz\"\n",
    ")"
   ]
  },
  {
   "cell_type": "code",
   "execution_count": 2,
   "metadata": {},
   "outputs": [],
   "source": [
    "import numpy as np"
   ]
  },
  {
   "cell_type": "markdown",
   "metadata": {},
   "source": [
    "Again, I'll load the NSFG pregnancy file and select live births:"
   ]
  },
  {
   "cell_type": "code",
   "execution_count": 3,
   "metadata": {},
   "outputs": [
    {
     "name": "stderr",
     "output_type": "stream",
     "text": [
      "C:\\Users\\Marcelo\\AppData\\Roaming\\Python\\Python39\\site-packages\\scipy\\__init__.py:138: UserWarning: A NumPy version >=1.16.5 and <1.23.0 is required for this version of SciPy (detected version 1.23.3)\n",
      "  warnings.warn(f\"A NumPy version >={np_minversion} and <{np_maxversion} is required for this version of \"\n"
     ]
    }
   ],
   "source": [
    "import nsfg\n",
    "import first\n",
    "import thinkstats2\n",
    "import thinkplot"
   ]
  },
  {
   "cell_type": "code",
   "execution_count": 4,
   "metadata": {},
   "outputs": [],
   "source": [
    "preg = nsfg.ReadFemPreg()\n",
    "live = preg[preg.outcome == 1]"
   ]
  },
  {
   "cell_type": "markdown",
   "metadata": {},
   "source": [
    "Here's the histogram of birth weights:"
   ]
  },
  {
   "cell_type": "code",
   "execution_count": 5,
   "metadata": {},
   "outputs": [
    {
     "data": {
      "image/png": "[encoded data removed]",
      "text/plain": [
       "<Figure size 432x288 with 1 Axes>"
      ]
     },
     "metadata": {
      "needs_background": "light"
     },
     "output_type": "display_data"
    }
   ],
   "source": [
    "hist = thinkstats2.Hist(live.birthwgt_lb, label=\"birthwgt_lb\")\n",
    "thinkplot.Hist(hist)\n",
    "thinkplot.Config(xlabel=\"Birth weight (pounds)\", ylabel=\"Count\")"
   ]
  },
  {
   "cell_type": "markdown",
   "metadata": {},
   "source": [
    "To normalize the disrtibution, we could divide through by the total count:"
   ]
  },
  {
   "cell_type": "code",
   "execution_count": 6,
   "metadata": {},
   "outputs": [],
   "source": [
    "n = hist.Total()\n",
    "pmf = hist.Copy()\n",
    "for x, freq in hist.Items():\n",
    "    pmf[x] = freq / n"
   ]
  },
  {
   "cell_type": "markdown",
   "metadata": {},
   "source": [
    "The result is a Probability Mass Function (PMF)."
   ]
  },
  {
   "cell_type": "code",
   "execution_count": 7,
   "metadata": {},
   "outputs": [
    {
     "data": {
      "image/png": "[encoded data removed]",
      "text/plain": [
       "<Figure size 432x288 with 1 Axes>"
      ]
     },
     "metadata": {
      "needs_background": "light"
     },
     "output_type": "display_data"
    }
   ],
   "source": [
    "thinkplot.Hist(pmf)\n",
    "thinkplot.Config(xlabel=\"Birth weight (pounds)\", ylabel=\"PMF\")"
   ]
  },
  {
   "cell_type": "markdown",
   "metadata": {},
   "source": [
    "More directly, we can create a Pmf object."
   ]
  },
  {
   "cell_type": "code",
   "execution_count": 8,
   "metadata": {},
   "outputs": [
    {
     "data": {
      "text/plain": [
       "Pmf({1: 0.2, 2: 0.4, 3: 0.2, 5: 0.2})"
      ]
     },
     "execution_count": 8,
     "metadata": {},
     "output_type": "execute_result"
    }
   ],
   "source": [
    "pmf = thinkstats2.Pmf([1, 2, 2, 3, 5])\n",
    "pmf"
   ]
  },
  {
   "cell_type": "markdown",
   "metadata": {},
   "source": [
    "`Pmf` provides `Prob`, which looks up a value and returns its probability:"
   ]
  },
  {
   "cell_type": "code",
   "execution_count": 9,
   "metadata": {},
   "outputs": [
    {
     "data": {
      "text/plain": [
       "0.4"
      ]
     },
     "execution_count": 9,
     "metadata": {},
     "output_type": "execute_result"
    }
   ],
   "source": [
    "pmf.Prob(2)"
   ]
  },
  {
   "cell_type": "markdown",
   "metadata": {},
   "source": [
    "The bracket operator does the same thing."
   ]
  },
  {
   "cell_type": "code",
   "execution_count": 10,
   "metadata": {},
   "outputs": [
    {
     "data": {
      "text/plain": [
       "0.4"
      ]
     },
     "execution_count": 10,
     "metadata": {},
     "output_type": "execute_result"
    }
   ],
   "source": [
    "pmf[2]"
   ]
  },
  {
   "cell_type": "markdown",
   "metadata": {},
   "source": [
    "The `Incr` method adds to the probability associated with a given values."
   ]
  },
  {
   "cell_type": "code",
   "execution_count": 11,
   "metadata": {},
   "outputs": [
    {
     "data": {
      "text/plain": [
       "0.6000000000000001"
      ]
     },
     "execution_count": 11,
     "metadata": {},
     "output_type": "execute_result"
    }
   ],
   "source": [
    "pmf.Incr(2, 0.2)\n",
    "pmf[2]"
   ]
  },
  {
   "cell_type": "markdown",
   "metadata": {},
   "source": [
    "The `Mult` method multiplies the probability associated with a value."
   ]
  },
  {
   "cell_type": "code",
   "execution_count": 12,
   "metadata": {},
   "outputs": [
    {
     "data": {
      "text/plain": [
       "0.30000000000000004"
      ]
     },
     "execution_count": 12,
     "metadata": {},
     "output_type": "execute_result"
    }
   ],
   "source": [
    "pmf.Mult(2, 0.5)\n",
    "pmf[2]"
   ]
  },
  {
   "cell_type": "markdown",
   "metadata": {},
   "source": [
    "`Total` returns the total probability (which is no longer 1, because we changed one of the probabilities)."
   ]
  },
  {
   "cell_type": "code",
   "execution_count": 13,
   "metadata": {},
   "outputs": [
    {
     "data": {
      "text/plain": [
       "0.8999999999999999"
      ]
     },
     "execution_count": 13,
     "metadata": {},
     "output_type": "execute_result"
    }
   ],
   "source": [
    "pmf.Total()"
   ]
  },
  {
   "cell_type": "markdown",
   "metadata": {},
   "source": [
    "`Normalize` divides through by the total probability, making it 1 again."
   ]
  },
  {
   "cell_type": "code",
   "execution_count": 14,
   "metadata": {},
   "outputs": [
    {
     "data": {
      "text/plain": [
       "1.0"
      ]
     },
     "execution_count": 14,
     "metadata": {},
     "output_type": "execute_result"
    }
   ],
   "source": [
    "pmf.Normalize()\n",
    "pmf.Total()"
   ]
  },
  {
   "cell_type": "markdown",
   "metadata": {},
   "source": [
    "Here's the PMF of pregnancy length for live births."
   ]
  },
  {
   "cell_type": "code",
   "execution_count": 15,
   "metadata": {},
   "outputs": [],
   "source": [
    "pmf = thinkstats2.Pmf(live.prglngth, label=\"prglngth\")"
   ]
  },
  {
   "cell_type": "markdown",
   "metadata": {},
   "source": [
    "Here's what it looks like plotted with `Hist`, which makes a bar graph."
   ]
  },
  {
   "cell_type": "code",
   "execution_count": 16,
   "metadata": {},
   "outputs": [
    {
     "data": {
      "image/png": "[encoded data removed]",
      "text/plain": [
       "<Figure size 432x288 with 1 Axes>"
      ]
     },
     "metadata": {
      "needs_background": "light"
     },
     "output_type": "display_data"
    }
   ],
   "source": [
    "thinkplot.Hist(pmf)\n",
    "thinkplot.Config(xlabel=\"Pregnancy length (weeks)\", ylabel=\"Pmf\")"
   ]
  },
  {
   "cell_type": "markdown",
   "metadata": {},
   "source": [
    "Here's what it looks like plotted with `Pmf`, which makes a step function."
   ]
  },
  {
   "cell_type": "code",
   "execution_count": 17,
   "metadata": {},
   "outputs": [
    {
     "data": {
      "image/png": "[encoded data removed]",
      "text/plain": [
       "<Figure size 432x288 with 1 Axes>"
      ]
     },
     "metadata": {
      "needs_background": "light"
     },
     "output_type": "display_data"
    }
   ],
   "source": [
    "thinkplot.Pmf(pmf)\n",
    "thinkplot.Config(xlabel=\"Pregnancy length (weeks)\", ylabel=\"Pmf\")"
   ]
  },
  {
   "cell_type": "markdown",
   "metadata": {},
   "source": [
    "We can use `MakeFrames` to return DataFrames for all live births, first babies, and others."
   ]
  },
  {
   "cell_type": "code",
   "execution_count": 18,
   "metadata": {},
   "outputs": [],
   "source": [
    "live, firsts, others = first.MakeFrames()"
   ]
  },
  {
   "cell_type": "markdown",
   "metadata": {},
   "source": [
    "Here are the distributions of pregnancy length."
   ]
  },
  {
   "cell_type": "code",
   "execution_count": 19,
   "metadata": {},
   "outputs": [],
   "source": [
    "first_pmf = thinkstats2.Pmf(firsts.prglngth, label=\"firsts\")\n",
    "other_pmf = thinkstats2.Pmf(others.prglngth, label=\"others\")"
   ]
  },
  {
   "cell_type": "markdown",
   "metadata": {},
   "source": [
    "And here's the code that replicates one of the figures in the chapter."
   ]
  },
  {
   "cell_type": "code",
   "execution_count": 20,
   "metadata": {},
   "outputs": [
    {
     "data": {
      "image/png": "[encoded data removed]",
      "text/plain": [
       "<Figure size 864x432 with 2 Axes>"
      ]
     },
     "metadata": {
      "needs_background": "light"
     },
     "output_type": "display_data"
    }
   ],
   "source": [
    "width = 0.45\n",
    "axis = [27, 46, 0, 0.6]\n",
    "thinkplot.PrePlot(2, cols=2)\n",
    "thinkplot.Hist(first_pmf, align=\"right\", width=width)\n",
    "thinkplot.Hist(other_pmf, align=\"left\", width=width)\n",
    "thinkplot.Config(xlabel=\"Pregnancy length(weeks)\", ylabel=\"PMF\", axis=axis)\n",
    "\n",
    "thinkplot.PrePlot(2)\n",
    "thinkplot.SubPlot(2)\n",
    "thinkplot.Pmfs([first_pmf, other_pmf])\n",
    "thinkplot.Config(xlabel=\"Pregnancy length(weeks)\", axis=axis)"
   ]
  },
  {
   "cell_type": "markdown",
   "metadata": {},
   "source": [
    "Here's the code that generates a plot of the difference in probability (in percentage points) between first babies and others, for each week of pregnancy (showing only pregnancies considered \"full term\"). "
   ]
  },
  {
   "cell_type": "code",
   "execution_count": 21,
   "metadata": {},
   "outputs": [
    {
     "data": {
      "image/png": "[encoded data removed]",
      "text/plain": [
       "<Figure size 432x288 with 1 Axes>"
      ]
     },
     "metadata": {
      "needs_background": "light"
     },
     "output_type": "display_data"
    }
   ],
   "source": [
    "weeks = range(35, 46)\n",
    "diffs = []\n",
    "for week in weeks:\n",
    "    p1 = first_pmf.Prob(week)\n",
    "    p2 = other_pmf.Prob(week)\n",
    "    diff = 100 * (p1 - p2)\n",
    "    diffs.append(diff)\n",
    "\n",
    "thinkplot.Bar(weeks, diffs)\n",
    "thinkplot.Config(xlabel='Pregnancy length(weeks)', ylabel='Difference (percentage points)')\n"
   ]
  },
  {
   "cell_type": "markdown",
   "metadata": {},
   "source": [
    "### Biasing and unbiasing PMFs\n",
    "\n",
    "Here's the example in the book showing operations we can perform with `Pmf` objects.\n",
    "\n",
    "Suppose we have the following distribution of class sizes."
   ]
  },
  {
   "cell_type": "code",
   "execution_count": 22,
   "metadata": {},
   "outputs": [],
   "source": [
    "d = {7: 8, 12: 8, 17: 14, 22: 4, 27: 6, 32: 12, 37: 8, 42: 3, 47: 2}\n",
    "\n",
    "pmf = thinkstats2.Pmf(d, label=\"actual\")"
   ]
  },
  {
   "cell_type": "markdown",
   "metadata": {},
   "source": [
    "This function computes the biased PMF we would get if we surveyed students and asked about the size of the classes they are in."
   ]
  },
  {
   "cell_type": "code",
   "execution_count": 23,
   "metadata": {},
   "outputs": [],
   "source": [
    "def BiasPmf(pmf, label):\n",
    "    new_pmf = pmf.Copy(label=label)\n",
    "\n",
    "    for x, p in pmf.Items():\n",
    "        new_pmf.Mult(x, x)\n",
    "\n",
    "    new_pmf.Normalize()\n",
    "    return new_pmf"
   ]
  },
  {
   "cell_type": "markdown",
   "metadata": {},
   "source": [
    "The following graph shows the difference between the actual and observed distributions."
   ]
  },
  {
   "cell_type": "code",
   "execution_count": 24,
   "metadata": {},
   "outputs": [
    {
     "data": {
      "image/png": "[encoded data removed]",
      "text/plain": [
       "<Figure size 432x288 with 1 Axes>"
      ]
     },
     "metadata": {
      "needs_background": "light"
     },
     "output_type": "display_data"
    }
   ],
   "source": [
    "biased_pmf = BiasPmf(pmf, label=\"observed\")\n",
    "thinkplot.PrePlot(2)\n",
    "thinkplot.Pmfs([pmf, biased_pmf])\n",
    "thinkplot.Config(xlabel=\"Class size\", ylabel=\"PMF\")"
   ]
  },
  {
   "cell_type": "markdown",
   "metadata": {},
   "source": [
    "The observed mean is substantially higher than the actual."
   ]
  },
  {
   "cell_type": "code",
   "execution_count": 25,
   "metadata": {},
   "outputs": [
    {
     "name": "stdout",
     "output_type": "stream",
     "text": [
      "Actual mean 23.692307692307693\n",
      "Observed mean 29.123376623376625\n"
     ]
    }
   ],
   "source": [
    "print(\"Actual mean\", pmf.Mean())\n",
    "print(\"Observed mean\", biased_pmf.Mean())"
   ]
  },
  {
   "cell_type": "markdown",
   "metadata": {},
   "source": [
    "If we were only able to collect the biased sample, we could \"unbias\" it by applying the inverse operation."
   ]
  },
  {
   "cell_type": "code",
   "execution_count": 26,
   "metadata": {},
   "outputs": [],
   "source": [
    "def UnbiasPmf(pmf, label=None):\n",
    "    new_pmf = pmf.Copy(label=label)\n",
    "\n",
    "    for x, p in pmf.Items():\n",
    "        new_pmf[x] *= 1 / x\n",
    "\n",
    "    new_pmf.Normalize()\n",
    "    return new_pmf"
   ]
  },
  {
   "cell_type": "markdown",
   "metadata": {},
   "source": [
    "We can unbias the biased PMF:"
   ]
  },
  {
   "cell_type": "code",
   "execution_count": 27,
   "metadata": {},
   "outputs": [
    {
     "name": "stdout",
     "output_type": "stream",
     "text": [
      "Unbiased mean 23.69230769230769\n"
     ]
    }
   ],
   "source": [
    "unbiased = UnbiasPmf(biased_pmf, label=\"unbiased\")\n",
    "print(\"Unbiased mean\", unbiased.Mean())"
   ]
  },
  {
   "cell_type": "markdown",
   "metadata": {},
   "source": [
    "And plot the two distributions to confirm they are the same."
   ]
  },
  {
   "cell_type": "code",
   "execution_count": 28,
   "metadata": {},
   "outputs": [
    {
     "data": {
      "image/png": "[encoded data removed]",
      "text/plain": [
       "<Figure size 432x288 with 1 Axes>"
      ]
     },
     "metadata": {
      "needs_background": "light"
     },
     "output_type": "display_data"
    }
   ],
   "source": [
    "thinkplot.PrePlot(2)\n",
    "thinkplot.Pmfs([pmf, unbiased])\n",
    "thinkplot.Config(xlabel=\"Class size\", ylabel=\"PMF\")"
   ]
  },
  {
   "cell_type": "markdown",
   "metadata": {},
   "source": [
    "### Pandas indexing\n",
    "\n",
    "Here's an example of a small DataFrame."
   ]
  },
  {
   "cell_type": "code",
   "execution_count": 29,
   "metadata": {},
   "outputs": [
    {
     "data": {
      "text/html": [
       "<div>\n",
       "<style scoped>\n",
       "    .dataframe tbody tr th:only-of-type {\n",
       "        vertical-align: middle;\n",
       "    }\n",
       "\n",
       "    .dataframe tbody tr th {\n",
       "        vertical-align: top;\n",
       "    }\n",
       "\n",
       "    .dataframe thead th {\n",
       "        text-align: right;\n",
       "    }\n",
       "</style>\n",
       "<table border=\"1\" class=\"dataframe\">\n",
       "  <thead>\n",
       "    <tr style=\"text-align: right;\">\n",
       "      <th></th>\n",
       "      <th>0</th>\n",
       "      <th>1</th>\n",
       "    </tr>\n",
       "  </thead>\n",
       "  <tbody>\n",
       "    <tr>\n",
       "      <th>0</th>\n",
       "      <td>-1.031165</td>\n",
       "      <td>0.388650</td>\n",
       "    </tr>\n",
       "    <tr>\n",
       "      <th>1</th>\n",
       "      <td>0.081686</td>\n",
       "      <td>-0.248855</td>\n",
       "    </tr>\n",
       "    <tr>\n",
       "      <th>2</th>\n",
       "      <td>0.523044</td>\n",
       "      <td>0.458363</td>\n",
       "    </tr>\n",
       "    <tr>\n",
       "      <th>3</th>\n",
       "      <td>-0.295717</td>\n",
       "      <td>0.534657</td>\n",
       "    </tr>\n",
       "  </tbody>\n",
       "</table>\n",
       "</div>"
      ],
      "text/plain": [
       "          0         1\n",
       "0 -1.031165  0.388650\n",
       "1  0.081686 -0.248855\n",
       "2  0.523044  0.458363\n",
       "3 -0.295717  0.534657"
      ]
     },
     "execution_count": 29,
     "metadata": {},
     "output_type": "execute_result"
    }
   ],
   "source": [
    "import numpy as np\n",
    "import pandas\n",
    "\n",
    "array = np.random.randn(4, 2)\n",
    "df = pandas.DataFrame(array)\n",
    "df"
   ]
  },
  {
   "cell_type": "markdown",
   "metadata": {},
   "source": [
    "We can specify column names when we create the DataFrame:"
   ]
  },
  {
   "cell_type": "code",
   "execution_count": 30,
   "metadata": {},
   "outputs": [
    {
     "data": {
      "text/html": [
       "<div>\n",
       "<style scoped>\n",
       "    .dataframe tbody tr th:only-of-type {\n",
       "        vertical-align: middle;\n",
       "    }\n",
       "\n",
       "    .dataframe tbody tr th {\n",
       "        vertical-align: top;\n",
       "    }\n",
       "\n",
       "    .dataframe thead th {\n",
       "        text-align: right;\n",
       "    }\n",
       "</style>\n",
       "<table border=\"1\" class=\"dataframe\">\n",
       "  <thead>\n",
       "    <tr style=\"text-align: right;\">\n",
       "      <th></th>\n",
       "      <th>A</th>\n",
       "      <th>B</th>\n",
       "    </tr>\n",
       "  </thead>\n",
       "  <tbody>\n",
       "    <tr>\n",
       "      <th>0</th>\n",
       "      <td>-1.031165</td>\n",
       "      <td>0.388650</td>\n",
       "    </tr>\n",
       "    <tr>\n",
       "      <th>1</th>\n",
       "      <td>0.081686</td>\n",
       "      <td>-0.248855</td>\n",
       "    </tr>\n",
       "    <tr>\n",
       "      <th>2</th>\n",
       "      <td>0.523044</td>\n",
       "      <td>0.458363</td>\n",
       "    </tr>\n",
       "    <tr>\n",
       "      <th>3</th>\n",
       "      <td>-0.295717</td>\n",
       "      <td>0.534657</td>\n",
       "    </tr>\n",
       "  </tbody>\n",
       "</table>\n",
       "</div>"
      ],
      "text/plain": [
       "          A         B\n",
       "0 -1.031165  0.388650\n",
       "1  0.081686 -0.248855\n",
       "2  0.523044  0.458363\n",
       "3 -0.295717  0.534657"
      ]
     },
     "execution_count": 30,
     "metadata": {},
     "output_type": "execute_result"
    }
   ],
   "source": [
    "columns = [\"A\", \"B\"]\n",
    "df = pandas.DataFrame(array, columns=columns)\n",
    "df"
   ]
  },
  {
   "cell_type": "markdown",
   "metadata": {},
   "source": [
    "We can also specify an index that contains labels for the rows."
   ]
  },
  {
   "cell_type": "code",
   "execution_count": 31,
   "metadata": {},
   "outputs": [
    {
     "data": {
      "text/html": [
       "<div>\n",
       "<style scoped>\n",
       "    .dataframe tbody tr th:only-of-type {\n",
       "        vertical-align: middle;\n",
       "    }\n",
       "\n",
       "    .dataframe tbody tr th {\n",
       "        vertical-align: top;\n",
       "    }\n",
       "\n",
       "    .dataframe thead th {\n",
       "        text-align: right;\n",
       "    }\n",
       "</style>\n",
       "<table border=\"1\" class=\"dataframe\">\n",
       "  <thead>\n",
       "    <tr style=\"text-align: right;\">\n",
       "      <th></th>\n",
       "      <th>A</th>\n",
       "      <th>B</th>\n",
       "    </tr>\n",
       "  </thead>\n",
       "  <tbody>\n",
       "    <tr>\n",
       "      <th>a</th>\n",
       "      <td>-1.031165</td>\n",
       "      <td>0.388650</td>\n",
       "    </tr>\n",
       "    <tr>\n",
       "      <th>b</th>\n",
       "      <td>0.081686</td>\n",
       "      <td>-0.248855</td>\n",
       "    </tr>\n",
       "    <tr>\n",
       "      <th>c</th>\n",
       "      <td>0.523044</td>\n",
       "      <td>0.458363</td>\n",
       "    </tr>\n",
       "    <tr>\n",
       "      <th>d</th>\n",
       "      <td>-0.295717</td>\n",
       "      <td>0.534657</td>\n",
       "    </tr>\n",
       "  </tbody>\n",
       "</table>\n",
       "</div>"
      ],
      "text/plain": [
       "          A         B\n",
       "a -1.031165  0.388650\n",
       "b  0.081686 -0.248855\n",
       "c  0.523044  0.458363\n",
       "d -0.295717  0.534657"
      ]
     },
     "execution_count": 31,
     "metadata": {},
     "output_type": "execute_result"
    }
   ],
   "source": [
    "index = [\"a\", \"b\", \"c\", \"d\"]\n",
    "df = pandas.DataFrame(array, columns=columns, index=index)\n",
    "df"
   ]
  },
  {
   "cell_type": "markdown",
   "metadata": {},
   "source": [
    "Normal indexing selects columns."
   ]
  },
  {
   "cell_type": "code",
   "execution_count": 32,
   "metadata": {},
   "outputs": [
    {
     "data": {
      "text/plain": [
       "a   -1.031165\n",
       "b    0.081686\n",
       "c    0.523044\n",
       "d   -0.295717\n",
       "Name: A, dtype: float64"
      ]
     },
     "execution_count": 32,
     "metadata": {},
     "output_type": "execute_result"
    }
   ],
   "source": [
    "df[\"A\"]"
   ]
  },
  {
   "cell_type": "markdown",
   "metadata": {},
   "source": [
    "We can use the `loc` attribute to select rows."
   ]
  },
  {
   "cell_type": "code",
   "execution_count": 33,
   "metadata": {},
   "outputs": [
    {
     "data": {
      "text/plain": [
       "A   -1.031165\n",
       "B    0.388650\n",
       "Name: a, dtype: float64"
      ]
     },
     "execution_count": 33,
     "metadata": {},
     "output_type": "execute_result"
    }
   ],
   "source": [
    "df.loc[\"a\"]"
   ]
  },
  {
   "cell_type": "markdown",
   "metadata": {},
   "source": [
    "If you don't want to use the row labels and prefer to access the rows using integer indices, you can use the `iloc` attribute:"
   ]
  },
  {
   "cell_type": "code",
   "execution_count": 34,
   "metadata": {},
   "outputs": [
    {
     "data": {
      "text/plain": [
       "A   -1.031165\n",
       "B    0.388650\n",
       "Name: a, dtype: float64"
      ]
     },
     "execution_count": 34,
     "metadata": {},
     "output_type": "execute_result"
    }
   ],
   "source": [
    "df.iloc[0]"
   ]
  },
  {
   "cell_type": "markdown",
   "metadata": {},
   "source": [
    "`loc` can also take a list of labels."
   ]
  },
  {
   "cell_type": "code",
   "execution_count": 35,
   "metadata": {},
   "outputs": [
    {
     "data": {
      "text/html": [
       "<div>\n",
       "<style scoped>\n",
       "    .dataframe tbody tr th:only-of-type {\n",
       "        vertical-align: middle;\n",
       "    }\n",
       "\n",
       "    .dataframe tbody tr th {\n",
       "        vertical-align: top;\n",
       "    }\n",
       "\n",
       "    .dataframe thead th {\n",
       "        text-align: right;\n",
       "    }\n",
       "</style>\n",
       "<table border=\"1\" class=\"dataframe\">\n",
       "  <thead>\n",
       "    <tr style=\"text-align: right;\">\n",
       "      <th></th>\n",
       "      <th>A</th>\n",
       "      <th>B</th>\n",
       "    </tr>\n",
       "  </thead>\n",
       "  <tbody>\n",
       "    <tr>\n",
       "      <th>a</th>\n",
       "      <td>-1.031165</td>\n",
       "      <td>0.388650</td>\n",
       "    </tr>\n",
       "    <tr>\n",
       "      <th>c</th>\n",
       "      <td>0.523044</td>\n",
       "      <td>0.458363</td>\n",
       "    </tr>\n",
       "  </tbody>\n",
       "</table>\n",
       "</div>"
      ],
      "text/plain": [
       "          A         B\n",
       "a -1.031165  0.388650\n",
       "c  0.523044  0.458363"
      ]
     },
     "execution_count": 35,
     "metadata": {},
     "output_type": "execute_result"
    }
   ],
   "source": [
    "indices = [\"a\", \"c\"]\n",
    "df.loc[indices]"
   ]
  },
  {
   "cell_type": "markdown",
   "metadata": {},
   "source": [
    "If you provide a slice of labels, `DataFrame` uses it to select rows."
   ]
  },
  {
   "cell_type": "code",
   "execution_count": 36,
   "metadata": {},
   "outputs": [
    {
     "data": {
      "text/html": [
       "<div>\n",
       "<style scoped>\n",
       "    .dataframe tbody tr th:only-of-type {\n",
       "        vertical-align: middle;\n",
       "    }\n",
       "\n",
       "    .dataframe tbody tr th {\n",
       "        vertical-align: top;\n",
       "    }\n",
       "\n",
       "    .dataframe thead th {\n",
       "        text-align: right;\n",
       "    }\n",
       "</style>\n",
       "<table border=\"1\" class=\"dataframe\">\n",
       "  <thead>\n",
       "    <tr style=\"text-align: right;\">\n",
       "      <th></th>\n",
       "      <th>A</th>\n",
       "      <th>B</th>\n",
       "    </tr>\n",
       "  </thead>\n",
       "  <tbody>\n",
       "    <tr>\n",
       "      <th>a</th>\n",
       "      <td>-1.031165</td>\n",
       "      <td>0.388650</td>\n",
       "    </tr>\n",
       "    <tr>\n",
       "      <th>b</th>\n",
       "      <td>0.081686</td>\n",
       "      <td>-0.248855</td>\n",
       "    </tr>\n",
       "    <tr>\n",
       "      <th>c</th>\n",
       "      <td>0.523044</td>\n",
       "      <td>0.458363</td>\n",
       "    </tr>\n",
       "  </tbody>\n",
       "</table>\n",
       "</div>"
      ],
      "text/plain": [
       "          A         B\n",
       "a -1.031165  0.388650\n",
       "b  0.081686 -0.248855\n",
       "c  0.523044  0.458363"
      ]
     },
     "execution_count": 36,
     "metadata": {},
     "output_type": "execute_result"
    }
   ],
   "source": [
    "df[\"a\":\"c\"]"
   ]
  },
  {
   "cell_type": "markdown",
   "metadata": {},
   "source": [
    "If you provide a slice of integers, `DataFrame` selects rows by integer index."
   ]
  },
  {
   "cell_type": "code",
   "execution_count": 37,
   "metadata": {},
   "outputs": [
    {
     "data": {
      "text/html": [
       "<div>\n",
       "<style scoped>\n",
       "    .dataframe tbody tr th:only-of-type {\n",
       "        vertical-align: middle;\n",
       "    }\n",
       "\n",
       "    .dataframe tbody tr th {\n",
       "        vertical-align: top;\n",
       "    }\n",
       "\n",
       "    .dataframe thead th {\n",
       "        text-align: right;\n",
       "    }\n",
       "</style>\n",
       "<table border=\"1\" class=\"dataframe\">\n",
       "  <thead>\n",
       "    <tr style=\"text-align: right;\">\n",
       "      <th></th>\n",
       "      <th>A</th>\n",
       "      <th>B</th>\n",
       "    </tr>\n",
       "  </thead>\n",
       "  <tbody>\n",
       "    <tr>\n",
       "      <th>a</th>\n",
       "      <td>-1.031165</td>\n",
       "      <td>0.388650</td>\n",
       "    </tr>\n",
       "    <tr>\n",
       "      <th>b</th>\n",
       "      <td>0.081686</td>\n",
       "      <td>-0.248855</td>\n",
       "    </tr>\n",
       "  </tbody>\n",
       "</table>\n",
       "</div>"
      ],
      "text/plain": [
       "          A         B\n",
       "a -1.031165  0.388650\n",
       "b  0.081686 -0.248855"
      ]
     },
     "execution_count": 37,
     "metadata": {},
     "output_type": "execute_result"
    }
   ],
   "source": [
    "df[0:2]"
   ]
  },
  {
   "cell_type": "markdown",
   "metadata": {},
   "source": [
    "But notice that one method includes the last elements of the slice and one does not.\n",
    "\n",
    "In general, I recommend giving labels to the rows and names to the columns, and using them consistently."
   ]
  },
  {
   "cell_type": "markdown",
   "metadata": {
    "collapsed": true
   },
   "source": [
    "## Exercises"
   ]
  },
  {
   "cell_type": "markdown",
   "metadata": {},
   "source": [
    "**Exercise:** In Chapter 3 we computed the mean of a sample by adding up\n",
    "the elements and dividing by n.  If you are given a PMF, you can\n",
    "still compute the mean, but the process is slightly different:\n",
    "%\n",
    "$$ \\xbar = \\sum_i p_i~x_i $$\n",
    "%\n",
    "where the $x_i$ are the unique values in the PMF and $p_i=PMF(x_i)$.\n",
    "Similarly, you can compute variance like this:\n",
    "%\n",
    "$$ S^2 = \\sum_i p_i~(x_i - \\xbar)^2 $$\n",
    "% \n",
    "Write functions called `PmfMean` and `PmfVar` that take a\n",
    "Pmf object and compute the mean and variance.  To test these methods,\n",
    "check that they are consistent with the methods `Mean` and `Var`\n",
    "provided by `Pmf`."
   ]
  },
  {
   "cell_type": "code",
   "execution_count": 38,
   "metadata": {},
   "outputs": [],
   "source": [
    "def PmfMean(pmf):\n",
    "    \"\"\"Computes the mean of a PMF.\n",
    "    Returns:\n",
    "        float mean\n",
    "    \"\"\"\n",
    "    return sum(p * x for x, p in pmf.Items())"
   ]
  },
  {
   "cell_type": "code",
   "execution_count": 39,
   "metadata": {},
   "outputs": [],
   "source": [
    "def PmfVar(pmf, mu=None):\n",
    "    \"\"\"Computes the variance of a PMF.\n",
    "    mu: the point around which the variance is computed;\n",
    "            if omitted, computes the mean\n",
    "    returns: float variance\n",
    "    \"\"\"\n",
    "    if mu is None:\n",
    "        mu = PmfMean(pmf)\n",
    "\n",
    "    return sum(p * (x - mu) ** 2 for x, p in pmf.Items())"
   ]
  },
  {
   "cell_type": "markdown",
   "metadata": {},
   "source": [
    "**Exercise:** Something like the class size paradox appears if you survey children and ask how many children are in their family. Families with many children are more likely to appear in your sample, and families with no children have no chance to be in the sample.\n",
    "\n",
    "Use the NSFG respondent variable `numkdhh` to construct the actual distribution for the number of children under 18 in the respondents' households.\n",
    "\n",
    "Now compute the biased distribution we would see if we surveyed the children and asked them how many children under 18 (including themselves) are in their household.\n",
    "\n",
    "Plot the actual and biased distributions, and compute their means."
   ]
  },
  {
   "cell_type": "code",
   "execution_count": 48,
   "metadata": {},
   "outputs": [],
   "source": [
    "download(\"https://github.com/AllenDowney/ThinkStats2/raw/master/code/2002FemResp.dct\")\n",
    "download(\"https://github.com/AllenDowney/ThinkStats2/raw/master/code/2002FemResp.dat.gz\")"
   ]
  },
  {
   "cell_type": "code",
   "execution_count": 49,
   "metadata": {},
   "outputs": [],
   "source": [
    "resp = nsfg.ReadFemResp()"
   ]
  },
  {
   "cell_type": "code",
   "execution_count": 51,
   "metadata": {},
   "outputs": [
    {
     "data": {
      "text/plain": [
       "0       3\n",
       "1       0\n",
       "2       0\n",
       "3       0\n",
       "4       0\n",
       "       ..\n",
       "7638    0\n",
       "7639    0\n",
       "7640    0\n",
       "7641    0\n",
       "7642    0\n",
       "Name: numkdhh, Length: 7643, dtype: int64"
      ]
     },
     "execution_count": 51,
     "metadata": {},
     "output_type": "execute_result"
    }
   ],
   "source": [
    "number_of_under18 = resp.numkdhh\n",
    "number_of_under18"
   ]
  },
  {
   "cell_type": "code",
   "execution_count": 61,
   "metadata": {},
   "outputs": [
    {
     "data": {
      "image/png": "[encoded data removed]",
      "text/plain": [
       "<Figure size 432x288 with 1 Axes>"
      ]
     },
     "metadata": {
      "needs_background": "light"
     },
     "output_type": "display_data"
    }
   ],
   "source": [
    "pmf_under18 = thinkstats2.Pmf(number_of_under18, label=\"actual\")\n",
    "thinkplot.Pmf(pmf_under18)\n",
    "thinkplot.Config(xlabel=\"Under 18\", ylabel=\"PMF\")"
   ]
  },
  {
   "cell_type": "code",
   "execution_count": 62,
   "metadata": {},
   "outputs": [
    {
     "data": {
      "image/png": "[encoded data removed]",
      "text/plain": [
       "<Figure size 432x288 with 1 Axes>"
      ]
     },
     "metadata": {
      "needs_background": "light"
     },
     "output_type": "display_data"
    }
   ],
   "source": [
    "biased_pmf = BiasPmf(pmf_under18, label=\"observed\")\n",
    "thinkplot.PrePlot(2)\n",
    "thinkplot.Pmfs([pmf_under18, biased_pmf])\n",
    "thinkplot.Config(xlabel=\"Under 18\", ylabel=\"PMF\")"
   ]
  },
  {
   "cell_type": "code",
   "execution_count": 45,
   "metadata": {},
   "outputs": [],
   "source": []
  },
  {
   "cell_type": "code",
   "execution_count": 46,
   "metadata": {},
   "outputs": [],
   "source": []
  },
  {
   "cell_type": "code",
   "execution_count": 47,
   "metadata": {},
   "outputs": [],
   "source": []
  },
  {
   "cell_type": "markdown",
   "metadata": {},
   "source": [
    "**Exercise:** I started this book with the question, \"Are first babies more likely to be late?\" To address it, I computed the difference in means between groups of babies, but I ignored the possibility that there might be a difference between first babies and others for the same woman.\n",
    "\n",
    "To address this version of the question, select respondents who have at least two live births and compute pairwise differences. Does this formulation of the question yield a different result?\n",
    "\n",
    "Hint: use `nsfg.MakePregMap`:"
   ]
  },
  {
   "cell_type": "code",
   "execution_count": 63,
   "metadata": {},
   "outputs": [],
   "source": [
    "live, firsts, others = first.MakeFrames()"
   ]
  },
  {
   "cell_type": "code",
   "execution_count": 64,
   "metadata": {},
   "outputs": [],
   "source": [
    "preg_map = nsfg.MakePregMap(live)"
   ]
  },
  {
   "cell_type": "code",
   "execution_count": 87,
   "metadata": {
    "scrolled": true
   },
   "outputs": [
    {
     "data": {
      "text/plain": [
       "[2,\n",
       " 6,\n",
       " 24,\n",
       " 31,\n",
       " 38,\n",
       " 57,\n",
       " 80,\n",
       " 86,\n",
       " 91,\n",
       " 92,\n",
       " 106,\n",
       " 118,\n",
       " 142,\n",
       " 145,\n",
       " 149,\n",
       " 150,\n",
       " 152,\n",
       " 160,\n",
       " 172,\n",
       " 190,\n",
       " 210,\n",
       " 244,\n",
       " 246,\n",
       " 248,\n",
       " 254,\n",
       " 256,\n",
       " 269,\n",
       " 277,\n",
       " 278,\n",
       " 281,\n",
       " 284,\n",
       " 287,\n",
       " 288,\n",
       " 314,\n",
       " 319,\n",
       " 320,\n",
       " 334,\n",
       " 336,\n",
       " 340,\n",
       " 348,\n",
       " 350,\n",
       " 365,\n",
       " 368,\n",
       " 372,\n",
       " 385,\n",
       " 413,\n",
       " 415,\n",
       " 438,\n",
       " 444,\n",
       " 459,\n",
       " 473,\n",
       " 481,\n",
       " 509,\n",
       " 515,\n",
       " 520,\n",
       " 523,\n",
       " 540,\n",
       " 574,\n",
       " 581,\n",
       " 586,\n",
       " 589,\n",
       " 595,\n",
       " 601,\n",
       " 606,\n",
       " 635,\n",
       " 637,\n",
       " 642,\n",
       " 657,\n",
       " 659,\n",
       " 693,\n",
       " 701,\n",
       " 702,\n",
       " 707,\n",
       " 710,\n",
       " 712,\n",
       " 737,\n",
       " 743,\n",
       " 745,\n",
       " 756,\n",
       " 784,\n",
       " 790,\n",
       " 796,\n",
       " 805,\n",
       " 811,\n",
       " 814,\n",
       " 820,\n",
       " 827,\n",
       " 830,\n",
       " 844,\n",
       " 845,\n",
       " 848,\n",
       " 849,\n",
       " 852,\n",
       " 854,\n",
       " 861,\n",
       " 863,\n",
       " 865,\n",
       " 872,\n",
       " 882,\n",
       " 901,\n",
       " 954,\n",
       " 961,\n",
       " 966,\n",
       " 972,\n",
       " 980,\n",
       " 989,\n",
       " 1000,\n",
       " 1017,\n",
       " 1042,\n",
       " 1058,\n",
       " 1062,\n",
       " 1068,\n",
       " 1086,\n",
       " 1088,\n",
       " 1100,\n",
       " 1101,\n",
       " 1131,\n",
       " 1138,\n",
       " 1151,\n",
       " 1153,\n",
       " 1160,\n",
       " 1169,\n",
       " 1176,\n",
       " 1191,\n",
       " 1204,\n",
       " 1209,\n",
       " 1210,\n",
       " 1214,\n",
       " 1219,\n",
       " 1236,\n",
       " 1251,\n",
       " 1265,\n",
       " 1277,\n",
       " 1279,\n",
       " 1280,\n",
       " 1284,\n",
       " 1292,\n",
       " 1295,\n",
       " 1305,\n",
       " 1314,\n",
       " 1333,\n",
       " 1338,\n",
       " 1339,\n",
       " 1349,\n",
       " 1351,\n",
       " 1359,\n",
       " 1366,\n",
       " 1384,\n",
       " 1388,\n",
       " 1393,\n",
       " 1396,\n",
       " 1397,\n",
       " 1399,\n",
       " 1410,\n",
       " 1411,\n",
       " 1414,\n",
       " 1434,\n",
       " 1440,\n",
       " 1443,\n",
       " 1446,\n",
       " 1465,\n",
       " 1466,\n",
       " 1491,\n",
       " 1494,\n",
       " 1511,\n",
       " 1518,\n",
       " 1527,\n",
       " 1549,\n",
       " 1575,\n",
       " 1588,\n",
       " 1595,\n",
       " 1597,\n",
       " 1606,\n",
       " 1611,\n",
       " 1618,\n",
       " 1629,\n",
       " 1630,\n",
       " 1636,\n",
       " 1652,\n",
       " 1655,\n",
       " 1668,\n",
       " 1682,\n",
       " 1684,\n",
       " 1685,\n",
       " 1689,\n",
       " 1692,\n",
       " 1694,\n",
       " 1707,\n",
       " 1719,\n",
       " 1722,\n",
       " 1729,\n",
       " 1747,\n",
       " 1751,\n",
       " 1752,\n",
       " 1753,\n",
       " 1755,\n",
       " 1761,\n",
       " 1768,\n",
       " 1775,\n",
       " 1791,\n",
       " 1825,\n",
       " 1840,\n",
       " 1852,\n",
       " 1855,\n",
       " 1873,\n",
       " 1892,\n",
       " 1899,\n",
       " 1908,\n",
       " 1916,\n",
       " 1944,\n",
       " 1964,\n",
       " 1985,\n",
       " 1986,\n",
       " 2012,\n",
       " 2013,\n",
       " 2047,\n",
       " 2048,\n",
       " 2054,\n",
       " 2056,\n",
       " 2057,\n",
       " 2065,\n",
       " 2076,\n",
       " 2092,\n",
       " 2111,\n",
       " 2118,\n",
       " 2153,\n",
       " 2168,\n",
       " 2171,\n",
       " 2187,\n",
       " 2190,\n",
       " 2193,\n",
       " 2194,\n",
       " 2195,\n",
       " 2211,\n",
       " 2214,\n",
       " 2216,\n",
       " 2246,\n",
       " 2252,\n",
       " 2259,\n",
       " 2266,\n",
       " 2287,\n",
       " 2288,\n",
       " 2292,\n",
       " 2296,\n",
       " 2298,\n",
       " 2302,\n",
       " 2318,\n",
       " 2329,\n",
       " 2338,\n",
       " 2362,\n",
       " 2370,\n",
       " 2380,\n",
       " 2396,\n",
       " 2408,\n",
       " 2412,\n",
       " 2421,\n",
       " 2425,\n",
       " 2426,\n",
       " 2439,\n",
       " 2474,\n",
       " 2475,\n",
       " 2506,\n",
       " 2525,\n",
       " 2538,\n",
       " 2545,\n",
       " 2553,\n",
       " 2568,\n",
       " 2570,\n",
       " 2604,\n",
       " 2605,\n",
       " 2609,\n",
       " 2612,\n",
       " 2613,\n",
       " 2624,\n",
       " 2642,\n",
       " 2643,\n",
       " 2648,\n",
       " 2654,\n",
       " 2666,\n",
       " 2667,\n",
       " 2675,\n",
       " 2678,\n",
       " 2679,\n",
       " 2680,\n",
       " 2719,\n",
       " 2721,\n",
       " 2725,\n",
       " 2730,\n",
       " 2732,\n",
       " 2741,\n",
       " 2745,\n",
       " 2771,\n",
       " 2788,\n",
       " 2789,\n",
       " 2792,\n",
       " 2807,\n",
       " 2817,\n",
       " 2841,\n",
       " 2844,\n",
       " 2853,\n",
       " 2859,\n",
       " 2865,\n",
       " 2866,\n",
       " 2877,\n",
       " 2882,\n",
       " 2888,\n",
       " 2894,\n",
       " 2899,\n",
       " 2908,\n",
       " 2909,\n",
       " 2910,\n",
       " 2924,\n",
       " 2926,\n",
       " 2944,\n",
       " 2951,\n",
       " 2956,\n",
       " 2959,\n",
       " 2967,\n",
       " 2977,\n",
       " 2980,\n",
       " 2989,\n",
       " 2999,\n",
       " 3011,\n",
       " 3015,\n",
       " 3025,\n",
       " 3057,\n",
       " 3060,\n",
       " 3064,\n",
       " 3072,\n",
       " 3075,\n",
       " 3086,\n",
       " 3131,\n",
       " 3145,\n",
       " 3153,\n",
       " 3182,\n",
       " 3185,\n",
       " 3212,\n",
       " 3217,\n",
       " 3219,\n",
       " 3222,\n",
       " 3226,\n",
       " 3229,\n",
       " 3232,\n",
       " 3235,\n",
       " 3248,\n",
       " 3251,\n",
       " 3254,\n",
       " 3255,\n",
       " 3267,\n",
       " 3298,\n",
       " 3315,\n",
       " 3323,\n",
       " 3334,\n",
       " 3362,\n",
       " 3379,\n",
       " 3386,\n",
       " 3391,\n",
       " 3408,\n",
       " 3418,\n",
       " 3423,\n",
       " 3428,\n",
       " 3430,\n",
       " 3433,\n",
       " 3438,\n",
       " 3447,\n",
       " 3449,\n",
       " 3455,\n",
       " 3462,\n",
       " 3463,\n",
       " 3486,\n",
       " 3498,\n",
       " 3520,\n",
       " 3523,\n",
       " 3544,\n",
       " 3546,\n",
       " 3555,\n",
       " 3570,\n",
       " 3610,\n",
       " 3623,\n",
       " 3638,\n",
       " 3647,\n",
       " 3651,\n",
       " 3657,\n",
       " 3661,\n",
       " 3676,\n",
       " 3681,\n",
       " 3690,\n",
       " 3691,\n",
       " 3693,\n",
       " 3699,\n",
       " 3700,\n",
       " 3704,\n",
       " 3722,\n",
       " 3733,\n",
       " 3735,\n",
       " 3737,\n",
       " 3746,\n",
       " 3750,\n",
       " 3751,\n",
       " 3753,\n",
       " 3769,\n",
       " 3772,\n",
       " 3788,\n",
       " 3789,\n",
       " 3803,\n",
       " 3812,\n",
       " 3821,\n",
       " 3853,\n",
       " 3862,\n",
       " 3872,\n",
       " 3902,\n",
       " 3903,\n",
       " 3905,\n",
       " 3906,\n",
       " 3925,\n",
       " 3956,\n",
       " 3957,\n",
       " 3984,\n",
       " 3994,\n",
       " 4001,\n",
       " 4009,\n",
       " 4010,\n",
       " 4013,\n",
       " 4014,\n",
       " 4018,\n",
       " 4021,\n",
       " 4023,\n",
       " 4026,\n",
       " 4027,\n",
       " 4030,\n",
       " 4031,\n",
       " 4034,\n",
       " 4042,\n",
       " 4063,\n",
       " 4081,\n",
       " 4110,\n",
       " 4122,\n",
       " 4150,\n",
       " 4168,\n",
       " 4171,\n",
       " 4175,\n",
       " 4214,\n",
       " 4228,\n",
       " 4246,\n",
       " 4249,\n",
       " 4251,\n",
       " 4266,\n",
       " 4269,\n",
       " 4285,\n",
       " 4291,\n",
       " 4293,\n",
       " 4294,\n",
       " 4298,\n",
       " 4308,\n",
       " 4321,\n",
       " 4335,\n",
       " 4338,\n",
       " 4341,\n",
       " 4365,\n",
       " 4380,\n",
       " 4387,\n",
       " 4399,\n",
       " 4411,\n",
       " 4422,\n",
       " 4431,\n",
       " 4437,\n",
       " 4447,\n",
       " 4457,\n",
       " 4459,\n",
       " 4461,\n",
       " 4463,\n",
       " 4464,\n",
       " 4479,\n",
       " 4480,\n",
       " 4503,\n",
       " 4504,\n",
       " 4514,\n",
       " 4515,\n",
       " 4528,\n",
       " 4548,\n",
       " 4577,\n",
       " 4590,\n",
       " 4619,\n",
       " 4623,\n",
       " 4636,\n",
       " 4638,\n",
       " 4661,\n",
       " 4667,\n",
       " 4694,\n",
       " 4726,\n",
       " 4757,\n",
       " 4790,\n",
       " 4796,\n",
       " 4821,\n",
       " 4849,\n",
       " 4866,\n",
       " 4881,\n",
       " 4889,\n",
       " 4893,\n",
       " 4904,\n",
       " 4912,\n",
       " 4923,\n",
       " 4926,\n",
       " 4928,\n",
       " 4929,\n",
       " 4934,\n",
       " 4957,\n",
       " 4964,\n",
       " 4968,\n",
       " 4973,\n",
       " 4986,\n",
       " 5002,\n",
       " 5013,\n",
       " 5060,\n",
       " 5066,\n",
       " 5070,\n",
       " 5074,\n",
       " 5108,\n",
       " 5118,\n",
       " 5126,\n",
       " 5128,\n",
       " 5158,\n",
       " 5168,\n",
       " 5171,\n",
       " 5182,\n",
       " 5189,\n",
       " 5200,\n",
       " 5201,\n",
       " 5205,\n",
       " 5206,\n",
       " 5212,\n",
       " 5248,\n",
       " 5254,\n",
       " 5267,\n",
       " 5268,\n",
       " 5271,\n",
       " 5272,\n",
       " 5279,\n",
       " 5295,\n",
       " 5317,\n",
       " 5322,\n",
       " 5324,\n",
       " 5325,\n",
       " 5340,\n",
       " 5349,\n",
       " 5351,\n",
       " 5356,\n",
       " 5361,\n",
       " 5386,\n",
       " 5392,\n",
       " 5396,\n",
       " 5398,\n",
       " 5427,\n",
       " 5444,\n",
       " 5453,\n",
       " 5457,\n",
       " 5459,\n",
       " 5466,\n",
       " 5470,\n",
       " 5489,\n",
       " 5495,\n",
       " 5507,\n",
       " 5509,\n",
       " 5510,\n",
       " 5513,\n",
       " 5533,\n",
       " 5540,\n",
       " 5547,\n",
       " 5559,\n",
       " 5573,\n",
       " 5580,\n",
       " 5583,\n",
       " 5586,\n",
       " 5592,\n",
       " 5598,\n",
       " 5611,\n",
       " 5620,\n",
       " 5630,\n",
       " 5652,\n",
       " 5664,\n",
       " 5677,\n",
       " 5685,\n",
       " 5688,\n",
       " 5691,\n",
       " 5706,\n",
       " 5719,\n",
       " 5728,\n",
       " 5734,\n",
       " 5751,\n",
       " 5757,\n",
       " 5763,\n",
       " 5765,\n",
       " 5767,\n",
       " 5769,\n",
       " 5773,\n",
       " 5775,\n",
       " 5790,\n",
       " 5807,\n",
       " 5808,\n",
       " 5809,\n",
       " 5824,\n",
       " 5832,\n",
       " 5834,\n",
       " 5836,\n",
       " 5867,\n",
       " 5880,\n",
       " 5904,\n",
       " 5905,\n",
       " 5911,\n",
       " 5949,\n",
       " 5965,\n",
       " 5969,\n",
       " 5973,\n",
       " 5980,\n",
       " 5982,\n",
       " 5991,\n",
       " 5992,\n",
       " 5999,\n",
       " 6004,\n",
       " 6006,\n",
       " 6022,\n",
       " 6023,\n",
       " 6029,\n",
       " 6044,\n",
       " 6046,\n",
       " 6047,\n",
       " 6051,\n",
       " 6060,\n",
       " 6077,\n",
       " 6081,\n",
       " 6112,\n",
       " 6123,\n",
       " 6131,\n",
       " 6147,\n",
       " 6168,\n",
       " 6193,\n",
       " 6194,\n",
       " 6226,\n",
       " 6229,\n",
       " 6243,\n",
       " 6246,\n",
       " 6248,\n",
       " 6264,\n",
       " 6294,\n",
       " 6297,\n",
       " 6308,\n",
       " 6335,\n",
       " 6339,\n",
       " 6340,\n",
       " 6348,\n",
       " 6349,\n",
       " 6386,\n",
       " 6397,\n",
       " 6402,\n",
       " 6438,\n",
       " 6444,\n",
       " 6450,\n",
       " 6464,\n",
       " 6481,\n",
       " 6484,\n",
       " 6486,\n",
       " 6503,\n",
       " 6511,\n",
       " 6524,\n",
       " 6545,\n",
       " 6547,\n",
       " 6551,\n",
       " 6557,\n",
       " 6560,\n",
       " 6561,\n",
       " 6581,\n",
       " 6582,\n",
       " 6585,\n",
       " 6592,\n",
       " 6604,\n",
       " 6631,\n",
       " 6644,\n",
       " 6659,\n",
       " 6660,\n",
       " 6674,\n",
       " 6678,\n",
       " 6679,\n",
       " 6699,\n",
       " 6705,\n",
       " 6707,\n",
       " 6715,\n",
       " 6733,\n",
       " 6745,\n",
       " 6760,\n",
       " 6768,\n",
       " 6787,\n",
       " 6806,\n",
       " 6829,\n",
       " 6837,\n",
       " 6838,\n",
       " 6840,\n",
       " 6846,\n",
       " 6853,\n",
       " 6856,\n",
       " 6874,\n",
       " 6896,\n",
       " 6929,\n",
       " 6949,\n",
       " 6967,\n",
       " 6968,\n",
       " 6972,\n",
       " 6990,\n",
       " 6997,\n",
       " 7008,\n",
       " 7032,\n",
       " 7035,\n",
       " 7040,\n",
       " 7051,\n",
       " 7055,\n",
       " 7059,\n",
       " 7078,\n",
       " 7080,\n",
       " 7084,\n",
       " 7109,\n",
       " 7113,\n",
       " 7116,\n",
       " 7117,\n",
       " 7118,\n",
       " 7142,\n",
       " 7153,\n",
       " 7168,\n",
       " 7177,\n",
       " 7200,\n",
       " 7208,\n",
       " 7222,\n",
       " 7228,\n",
       " 7241,\n",
       " 7258,\n",
       " 7263,\n",
       " 7281,\n",
       " 7283,\n",
       " 7303,\n",
       " 7305,\n",
       " 7306,\n",
       " 7309,\n",
       " 7341,\n",
       " 7343,\n",
       " 7351,\n",
       " 7354,\n",
       " 7356,\n",
       " 7361,\n",
       " 7367,\n",
       " 7372,\n",
       " 7392,\n",
       " 7417,\n",
       " 7419,\n",
       " 7421,\n",
       " 7434,\n",
       " 7441,\n",
       " 7444,\n",
       " 7473,\n",
       " 7478,\n",
       " 7484,\n",
       " 7494,\n",
       " 7496,\n",
       " 7515,\n",
       " 7531,\n",
       " 7542,\n",
       " 7566,\n",
       " 7582,\n",
       " 7600,\n",
       " 7615,\n",
       " 7620,\n",
       " 7643,\n",
       " 7653,\n",
       " 7657,\n",
       " 7660,\n",
       " 7666,\n",
       " 7668,\n",
       " 7719,\n",
       " 7720,\n",
       " 7741,\n",
       " 7746,\n",
       " 7749,\n",
       " 7752,\n",
       " 7755,\n",
       " 7760,\n",
       " 7767,\n",
       " 7770,\n",
       " 7772,\n",
       " 7794,\n",
       " 7807,\n",
       " 7845,\n",
       " 7861,\n",
       " 7867,\n",
       " 7885,\n",
       " 7909,\n",
       " 7915,\n",
       " 7921,\n",
       " 7926,\n",
       " 7952,\n",
       " 7955,\n",
       " 7956,\n",
       " 7984,\n",
       " 7986,\n",
       " 7996,\n",
       " 8000,\n",
       " 8005,\n",
       " 8018,\n",
       " 8025,\n",
       " 8057,\n",
       " 8062,\n",
       " 8076,\n",
       " 8091,\n",
       " 8100,\n",
       " 8104,\n",
       " 8108,\n",
       " 8114,\n",
       " 8117,\n",
       " 8131,\n",
       " 8135,\n",
       " 8139,\n",
       " 8140,\n",
       " 8147,\n",
       " 8159,\n",
       " 8178,\n",
       " 8180,\n",
       " 8183,\n",
       " 8184,\n",
       " 8209,\n",
       " 8223,\n",
       " 8230,\n",
       " 8248,\n",
       " 8254,\n",
       " 8270,\n",
       " 8279,\n",
       " 8288,\n",
       " 8303,\n",
       " 8308,\n",
       " 8326,\n",
       " 8328,\n",
       " 8339,\n",
       " 8348,\n",
       " 8349,\n",
       " 8355,\n",
       " 8378,\n",
       " 8393,\n",
       " 8409,\n",
       " 8443,\n",
       " 8455,\n",
       " 8495,\n",
       " 8513,\n",
       " 8524,\n",
       " 8529,\n",
       " 8564,\n",
       " 8575,\n",
       " 8585,\n",
       " 8600,\n",
       " 8620,\n",
       " 8625,\n",
       " 8628,\n",
       " 8638,\n",
       " 8650,\n",
       " 8653,\n",
       " 8656,\n",
       " 8658,\n",
       " 8661,\n",
       " 8674,\n",
       " 8677,\n",
       " 8681,\n",
       " 8702,\n",
       " 8715,\n",
       " 8720,\n",
       " 8722,\n",
       " 8731,\n",
       " 8760,\n",
       " 8763,\n",
       " 8782,\n",
       " 8783,\n",
       " 8797,\n",
       " 8827,\n",
       " 8831,\n",
       " 8835,\n",
       " 8839,\n",
       " 8848,\n",
       " 8859,\n",
       " 8867,\n",
       " 8871,\n",
       " 8887,\n",
       " 8900,\n",
       " 8903,\n",
       " 8906,\n",
       " 8920,\n",
       " 8935,\n",
       " 8938,\n",
       " 8945,\n",
       " 9013,\n",
       " 9033,\n",
       " 9039,\n",
       " 9043,\n",
       " 9059,\n",
       " 9062,\n",
       " 9074,\n",
       " 9111,\n",
       " 9120,\n",
       " 9124,\n",
       " 9128,\n",
       " 9152,\n",
       " 9154,\n",
       " 9157,\n",
       " 9158,\n",
       " 9161,\n",
       " 9174,\n",
       " 9181,\n",
       " 9208,\n",
       " 9210,\n",
       " 9213,\n",
       " 9227,\n",
       " 9228,\n",
       " 9229,\n",
       " 9232,\n",
       " 9235,\n",
       " 9258,\n",
       " 9266,\n",
       " 9275,\n",
       " 9277,\n",
       " 9278,\n",
       " 9288,\n",
       " 9299,\n",
       " 9302,\n",
       " 9315,\n",
       " 9319,\n",
       " 9322,\n",
       " 9325,\n",
       " 9334,\n",
       " 9338,\n",
       " 9357,\n",
       " 9398,\n",
       " 9411,\n",
       " 9413,\n",
       " 9443,\n",
       " 9446,\n",
       " 9459,\n",
       " 9466,\n",
       " 9473,\n",
       " 9485,\n",
       " 9494,\n",
       " 9501,\n",
       " 9517,\n",
       " 9519,\n",
       " 9526,\n",
       " 9546,\n",
       " 9550,\n",
       " 9567,\n",
       " 9572,\n",
       " 9579,\n",
       " 9580,\n",
       " 9599,\n",
       " 9608,\n",
       " 9624,\n",
       " 9631,\n",
       " 9634,\n",
       " 9636,\n",
       " 9642,\n",
       " 9658,\n",
       " 9680,\n",
       " 9682,\n",
       " 9690,\n",
       " 9708,\n",
       " 9718,\n",
       " 9735,\n",
       " 9764,\n",
       " 9770,\n",
       " 9781,\n",
       " 9785,\n",
       " 9786,\n",
       " 9791,\n",
       " 9804,\n",
       " 9809,\n",
       " 9812,\n",
       " 9815,\n",
       " 9820,\n",
       " 9825,\n",
       " 9875,\n",
       " 9879,\n",
       " 9882,\n",
       " 9895,\n",
       " 9906,\n",
       " 9908,\n",
       " 9923,\n",
       " 9926,\n",
       " 9935,\n",
       " 9951,\n",
       " 9963,\n",
       " 9971,\n",
       " 9986,\n",
       " 9988,\n",
       " 10015,\n",
       " 10033,\n",
       " 10051,\n",
       " 10057,\n",
       " 10094,\n",
       " 10103,\n",
       " 10109,\n",
       " 10117,\n",
       " ...]"
      ]
     },
     "execution_count": 87,
     "metadata": {},
     "output_type": "execute_result"
    }
   ],
   "source": [
    "twobirth_cases = [k for k, v in preg_map.items() if len(v)>2]\n",
    "twobirth_cases"
   ]
  },
  {
   "cell_type": "code",
   "execution_count": 190,
   "metadata": {},
   "outputs": [],
   "source": [
    "cases_firsts = firsts[firsts['caseid'].isin(twobirth_cases)]\n",
    "cases_others = others[others['caseid'].isin(twobirth_cases)]"
   ]
  },
  {
   "cell_type": "code",
   "execution_count": 191,
   "metadata": {
    "scrolled": true
   },
   "outputs": [],
   "source": [
    "df_firsts = cases_firsts[['caseid', 'prglngth']]"
   ]
  },
  {
   "cell_type": "code",
   "execution_count": 192,
   "metadata": {},
   "outputs": [],
   "source": [
    "df_others = cases_others[['caseid', 'prglngth']]"
   ]
  },
  {
   "cell_type": "code",
   "execution_count": 193,
   "metadata": {
    "scrolled": true
   },
   "outputs": [
    {
     "data": {
      "text/plain": [
       "0       0\n",
       "1       0\n",
       "2      -2\n",
       "3      -4\n",
       "4       0\n",
       "       ..\n",
       "3090   -1\n",
       "3091   -1\n",
       "3092   -1\n",
       "3093    0\n",
       "3094    0\n",
       "Length: 3095, dtype: int64"
      ]
     },
     "execution_count": 193,
     "metadata": {},
     "output_type": "execute_result"
    }
   ],
   "source": [
    "merged = df_firsts.merge(df_others, on=\"caseid\", suffixes=(\"_firsts\", \"_others\"))\n",
    "merged\n",
    "\n",
    "result = merged[\"prglngth_firsts\"].sub(merged[\"prglngth_others\"])\n",
    "result"
   ]
  },
  {
   "cell_type": "code",
   "execution_count": 194,
   "metadata": {
    "scrolled": true
   },
   "outputs": [
    {
     "data": {
      "image/png": "[encoded data removed]",
      "text/plain": [
       "<Figure size 432x288 with 1 Axes>"
      ]
     },
     "metadata": {
      "needs_background": "light"
     },
     "output_type": "display_data"
    }
   ],
   "source": [
    "diff = thinkstats2.Hist(result)\n",
    "thinkplot.Hist(diff)"
   ]
  },
  {
   "cell_type": "code",
   "execution_count": 123,
   "metadata": {},
   "outputs": [
    {
     "data": {
      "text/html": [
       "<div>\n",
       "<style scoped>\n",
       "    .dataframe tbody tr th:only-of-type {\n",
       "        vertical-align: middle;\n",
       "    }\n",
       "\n",
       "    .dataframe tbody tr th {\n",
       "        vertical-align: top;\n",
       "    }\n",
       "\n",
       "    .dataframe thead th {\n",
       "        text-align: right;\n",
       "    }\n",
       "</style>\n",
       "<table border=\"1\" class=\"dataframe\">\n",
       "  <thead>\n",
       "    <tr style=\"text-align: right;\">\n",
       "      <th></th>\n",
       "      <th>caseid</th>\n",
       "      <th>index</th>\n",
       "      <th>prglngth</th>\n",
       "    </tr>\n",
       "  </thead>\n",
       "  <tbody>\n",
       "    <tr>\n",
       "      <th>0</th>\n",
       "      <td>NaN</td>\n",
       "      <td>NaN</td>\n",
       "      <td>0.000000</td>\n",
       "    </tr>\n",
       "    <tr>\n",
       "      <th>1</th>\n",
       "      <td>NaN</td>\n",
       "      <td>NaN</td>\n",
       "      <td>-3.000000</td>\n",
       "    </tr>\n",
       "    <tr>\n",
       "      <th>2</th>\n",
       "      <td>NaN</td>\n",
       "      <td>NaN</td>\n",
       "      <td>0.000000</td>\n",
       "    </tr>\n",
       "    <tr>\n",
       "      <th>3</th>\n",
       "      <td>NaN</td>\n",
       "      <td>NaN</td>\n",
       "      <td>3.500000</td>\n",
       "    </tr>\n",
       "    <tr>\n",
       "      <th>4</th>\n",
       "      <td>NaN</td>\n",
       "      <td>NaN</td>\n",
       "      <td>-1.000000</td>\n",
       "    </tr>\n",
       "    <tr>\n",
       "      <th>...</th>\n",
       "      <td>...</td>\n",
       "      <td>...</td>\n",
       "      <td>...</td>\n",
       "    </tr>\n",
       "    <tr>\n",
       "      <th>1229</th>\n",
       "      <td>NaN</td>\n",
       "      <td>NaN</td>\n",
       "      <td>-0.666667</td>\n",
       "    </tr>\n",
       "    <tr>\n",
       "      <th>1230</th>\n",
       "      <td>NaN</td>\n",
       "      <td>NaN</td>\n",
       "      <td>0.000000</td>\n",
       "    </tr>\n",
       "    <tr>\n",
       "      <th>1231</th>\n",
       "      <td>NaN</td>\n",
       "      <td>NaN</td>\n",
       "      <td>-1.500000</td>\n",
       "    </tr>\n",
       "    <tr>\n",
       "      <th>1232</th>\n",
       "      <td>NaN</td>\n",
       "      <td>NaN</td>\n",
       "      <td>-1.000000</td>\n",
       "    </tr>\n",
       "    <tr>\n",
       "      <th>1233</th>\n",
       "      <td>NaN</td>\n",
       "      <td>NaN</td>\n",
       "      <td>0.000000</td>\n",
       "    </tr>\n",
       "  </tbody>\n",
       "</table>\n",
       "<p>1234 rows × 3 columns</p>\n",
       "</div>"
      ],
      "text/plain": [
       "      caseid  index  prglngth\n",
       "0        NaN    NaN  0.000000\n",
       "1        NaN    NaN -3.000000\n",
       "2        NaN    NaN  0.000000\n",
       "3        NaN    NaN  3.500000\n",
       "4        NaN    NaN -1.000000\n",
       "...      ...    ...       ...\n",
       "1229     NaN    NaN -0.666667\n",
       "1230     NaN    NaN  0.000000\n",
       "1231     NaN    NaN -1.500000\n",
       "1232     NaN    NaN -1.000000\n",
       "1233     NaN    NaN  0.000000\n",
       "\n",
       "[1234 rows x 3 columns]"
      ]
     },
     "execution_count": 123,
     "metadata": {},
     "output_type": "execute_result"
    }
   ],
   "source": [
    "result = cases_firsts.reset_index()-avg_prglngth_others.reset_index()\n",
    "result"
   ]
  },
  {
   "cell_type": "markdown",
   "metadata": {},
   "source": [
    "**Exercise:** In most foot races, everyone starts at the same time. If you are a fast runner, you usually pass a lot of people at the beginning of the race, but after a few miles everyone around you is going at the same speed.\n",
    "When I ran a long-distance (209 miles) relay race for the first time, I noticed an odd phenomenon: when I overtook another runner, I was usually much faster, and when another runner overtook me, he was usually much faster.\n",
    "\n",
    "At first I thought that the distribution of speeds might be bimodal; that is, there were many slow runners and many fast runners, but few at my speed.\n",
    "\n",
    "Then I realized that I was the victim of a bias similar to the effect of class size. The race was unusual in two ways: it used a staggered start, so teams started at different times; also, many teams included runners at different levels of ability.\n",
    "\n",
    "As a result, runners were spread out along the course with little relationship between speed and location. When I joined the race, the runners near me were (pretty much) a random sample of the runners in the race.\n",
    "\n",
    "So where does the bias come from? During my time on the course, the chance of overtaking a runner, or being overtaken, is proportional to the difference in our speeds. I am more likely to catch a slow runner, and more likely to be caught by a fast runner. But runners at the same speed are unlikely to see each other.\n",
    "\n",
    "Write a function called `ObservedPmf` that takes a `Pmf` representing the actual distribution of runners’ speeds, and the speed of a running observer, and returns a new `Pmf` representing the distribution of runners’ speeds as seen by the observer.\n",
    "\n",
    "To test your function, you can use `relay.py`, which reads the results from the James Joyce Ramble 10K in Dedham MA and converts the pace of each runner to mph.\n",
    "\n",
    "Compute the distribution of speeds you would observe if you ran a relay race at 7 mph with this group of runners."
   ]
  },
  {
   "cell_type": "code",
   "execution_count": 195,
   "metadata": {},
   "outputs": [],
   "source": [
    "download(\"https://github.com/AllenDowney/ThinkStats2/raw/master/code/relay.py\")\n",
    "download(\"https://github.com/AllenDowney/ThinkStats2/raw/master/code/Apr25_27thAn_set1.shtml\")"
   ]
  },
  {
   "cell_type": "code",
   "execution_count": 196,
   "metadata": {},
   "outputs": [],
   "source": [
    "import relay\n",
    "\n",
    "results = relay.ReadResults()\n",
    "speeds = relay.GetSpeeds(results)\n",
    "speeds = relay.BinData(speeds, 3, 12, 100)"
   ]
  },
  {
   "cell_type": "code",
   "execution_count": 197,
   "metadata": {},
   "outputs": [
    {
     "data": {
      "image/png": "[encoded data removed]",
      "text/plain": [
       "<Figure size 432x288 with 1 Axes>"
      ]
     },
     "metadata": {
      "needs_background": "light"
     },
     "output_type": "display_data"
    }
   ],
   "source": [
    "pmf = thinkstats2.Pmf(speeds, \"actual speeds\")\n",
    "thinkplot.Pmf(pmf)\n",
    "thinkplot.Config(xlabel=\"Speed (mph)\", ylabel=\"PMF\")"
   ]
  },
  {
   "cell_type": "code",
   "execution_count": 198,
   "metadata": {},
   "outputs": [
    {
     "data": {
      "text/plain": [
       "Pmf({12.09: 0.0006265664160401002, 11.73: 0.0012531328320802004, 11.46: 0.0006265664160401002, 11.28: 0.0012531328320802004, 11.1: 0.0006265664160401002, 11.01: 0.0018796992481203006, 10.92: 0.0006265664160401002, 10.83: 0.0006265664160401002, 10.559999999999999: 0.0006265664160401002, 10.379999999999999: 0.0006265664160401002, 10.2: 0.0006265664160401002, 10.11: 0.0012531328320802004, 10.02: 0.0006265664160401002, 9.93: 0.0012531328320802004, 9.84: 0.0006265664160401002, 9.75: 0.002506265664160401, 9.66: 0.0043859649122807015, 9.57: 0.0006265664160401002, 9.48: 0.003132832080200501, 9.39: 0.005639097744360902, 9.3: 0.0012531328320802004, 9.21: 0.0037593984962406013, 9.120000000000001: 0.002506265664160401, 9.030000000000001: 0.0018796992481203006, 8.940000000000001: 0.006265664160401002, 8.85: 0.005012531328320802, 8.76: 0.008771929824561403, 8.67: 0.009398496240601503, 8.58: 0.005639097744360902, 8.49: 0.010025062656641603, 8.4: 0.0043859649122807015, 8.309999999999999: 0.010651629072681704, 8.219999999999999: 0.012531328320802004, 8.129999999999999: 0.020050125313283207, 8.04: 0.012531328320802004, 7.95: 0.016917293233082706, 7.86: 0.023809523809523808, 7.77: 0.021929824561403508, 7.68: 0.022556390977443608, 7.59: 0.02694235588972431, 7.5: 0.023809523809523808, 7.41: 0.018796992481203006, 7.32: 0.02694235588972431, 7.23: 0.02944862155388471, 7.14: 0.018796992481203006, 7.05: 0.023182957393483708, 6.96: 0.03195488721804511, 6.87: 0.03195488721804511, 6.779999999999999: 0.02882205513784461, 6.6899999999999995: 0.03822055137844611, 6.6: 0.03195488721804511, 6.51: 0.03258145363408521, 6.42: 0.03571428571428571, 6.33: 0.040100250626566414, 6.24: 0.03696741854636591, 6.15: 0.03007518796992481, 6.0600000000000005: 0.03320802005012531, 5.970000000000001: 0.02694235588972431, 5.88: 0.015664160401002505, 5.79: 0.023809523809523808, 5.7: 0.02944862155388471, 5.609999999999999: 0.020050125313283207, 5.52: 0.019423558897243107, 5.43: 0.020676691729323307, 5.34: 0.008145363408521303, 5.25: 0.019423558897243107, 5.16: 0.009398496240601503, 5.07: 0.007518796992481203, 4.98: 0.006265664160401002, 4.89: 0.005012531328320802, 4.8: 0.0043859649122807015, 4.71: 0.003132832080200501, 4.62: 0.0006265664160401002, 4.53: 0.002506265664160401, 4.4399999999999995: 0.0006265664160401002, 4.26: 0.0006265664160401002, 4.17: 0.0012531328320802004, 4.08: 0.002506265664160401, 3.99: 0.0006265664160401002, 3.36: 0.0006265664160401002, 3.27: 0.0018796992481203006, 3.09: 0.0006265664160401002}, 'actual speeds')"
      ]
     },
     "execution_count": 198,
     "metadata": {},
     "output_type": "execute_result"
    }
   ],
   "source": [
    "pmf"
   ]
  },
  {
   "cell_type": "code",
   "execution_count": 219,
   "metadata": {},
   "outputs": [],
   "source": [
    "# Solution\n",
    "\n",
    "def ObservedPmf(pmf, speed, label=None):\n",
    "    \"\"\"Returns a new Pmf representing speeds observed at a given speed.\n",
    "\n",
    "    The chance of observing a runner is proportional to the difference\n",
    "    in speed.\n",
    "\n",
    "    Args:\n",
    "        pmf: distribution of actual speeds\n",
    "        speed: speed of the observing runner\n",
    "        label: string label for the new dist\n",
    "\n",
    "    Returns:\n",
    "        Pmf object\n",
    "    \"\"\"\n",
    "    new = pmf.Copy(label=label)\n",
    "    for val in new.Values():\n",
    "        diff = abs(val - speed)\n",
    "        new[val] *= diff\n",
    "    new.Normalize()\n",
    "    return new\n"
   ]
  },
  {
   "cell_type": "code",
   "execution_count": 222,
   "metadata": {},
   "outputs": [
    {
     "data": {
      "image/png": "[encoded data removed]",
      "text/plain": [
       "<Figure size 432x288 with 1 Axes>"
      ]
     },
     "metadata": {
      "needs_background": "light"
     },
     "output_type": "display_data"
    }
   ],
   "source": [
    "observed_pmf = ObservedPmf(pmf,7, label=\"observed speeds\")\n",
    "thinkplot.Pmfs([pmf, observed_pmf])\n",
    "thinkplot.Config(xlabel=\"Speed (mph)\", ylabel=\"PMF\")"
   ]
  },
  {
   "cell_type": "code",
   "execution_count": null,
   "metadata": {},
   "outputs": [],
   "source": []
  },
  {
   "cell_type": "code",
   "execution_count": null,
   "metadata": {},
   "outputs": [],
   "source": []
  }
 ],
 "metadata": {
  "kernelspec": {
   "display_name": "Python 3 (ipykernel)",
   "language": "python",
   "name": "python3"
  },
  "language_info": {
   "codemirror_mode": {
    "name": "ipython",
    "version": 3
   },
   "file_extension": ".py",
   "mimetype": "text/x-python",
   "name": "python",
   "nbconvert_exporter": "python",
   "pygments_lexer": "ipython3",
   "version": "3.9.12"
  }
 },
 "nbformat": 4,
 "nbformat_minor": 1
}
